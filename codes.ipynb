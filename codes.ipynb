{
 "cells": [
  {
   "cell_type": "code",
   "execution_count": null,
   "metadata": {},
   "outputs": [],
   "source": [
    "90\t75\t87\t71\tN.A.\tN.A.\t83\t87\t50\tN.A.\tN.A.\t76\tN.A.\t57\t62\tN.A.\t70\tN.A.\t63\t72\t100\t92\t66\tN.A.\t78\tN.A.\t82\t90\t73\t90\t90\tN.A.\tN.A.\t34\t74\t20\t20\tN.A.\tN.A.\t75\tN.A.\t37\t20\tN.A.\tN.A.\tN.A.\tN.A.\t20\tN.A.\tN.A.\tN.A.\tN.A.\tN.A.\tN.A.\tN.A.\t80\t70\tN.A.\tN.A.\tN.A.\tN.A.\t76\t80\t85\t72\tN.A.\tN.A.\t79\t90\tN.A.\tN.A.\tN.A.\tN.A.\t90\t75\t75\t85\tN.A.\tN.A.\tN.A.\t78\tN.A.\t77\tN.A.\t77\tN.A.\tN.A.\tN.A.\tN.A.\tN.A.\t73\t80\t90\tN.A.\tN.A.\t82\tN.A.\tN.A.\t70\tN.A.\tN.A.\tN.A.\tN.A.\t70\t65.44\n",
    "98\t100\t95\t72\tN.A.\tN.A.\t92\t82\t88\tN.A.\tN.A.\t84\tN.A.\t100\t82\tN.A.\tN.A.\tN.A.\t90\t76\t80\t88\t75\tN.A.\t73\tN.A.\t79\t90\t75\t90\t85\tN.A.\tN.A.\t20\t71\t100\t95\tN.A.\tN.A.\t75\tN.A.\t91\t100\tN.A.\tN.A.\tN.A.\tN.A.\t100\t60\t70\tN.A.\tN.A.\tN.A.\tN.A.\t65\t90\t90\tN.A.\tN.A.\tN.A.\tN.A.\t90\t90\t80\t80\tN.A.\tN.A.\t84\t85\tN.A.\tN.A.\tN.A.\tN.A.\t85\t88\t80\t94\tN.A.\tN.A.\tN.A.\t87\tN.A.\t63\tN.A.\t63\tN.A.\tN.A.\tN.A.\tN.A.\tN.A.\t73\t75\t75\tN.A.\tN.A.\t74\tN.A.\tN.A.\t88\tN.A.\tN.A.\tN.A.\tN.A.\t88\t81.81\n",
    "100\t100\t100\t83\tN.A.\tN.A.\t96\t93\t88\tN.A.\tN.A.\t91\tN.A.\t100\t100\tN.A.\t91\tN.A.\t97\t89\t88\t88\t92\tN.A.\t90\tN.A.\t89\t100\t95\t90\t93\tN.A.\tN.A.\t85\t93\t100\t90\tN.A.\tN.A.\t75\tN.A.\t89\t100\tN.A.\tN.A.\tN.A.\tN.A.\t100\t95\t90\tN.A.\tN.A.\tN.A.\tN.A.\t93\t95\t95\tN.A.\tN.A.\tN.A.\tN.A.\t95\t95\t90\t72\tN.A.\tN.A.\t86\t94\tN.A.\tN.A.\tN.A.\tN.A.\t94\t90\t89\t95\tN.A.\tN.A.\tN.A.\t91\tN.A.\t93\tN.A.\t93\tN.A.\tN.A.\tN.A.\tN.A.\tN.A.\t85\t85\t90\tN.A.\tN.A.\t87\tN.A.\tN.A.\t80\tN.A.\tN.A.\tN.A.\tN.A.\t80\t91.25\n",
    "96\t100\t100\t77\tN.A.\tN.A.\t93\t73\t85\tN.A.\tN.A.\t77\tN.A.\t100\t95\tN.A.\t87\tN.A.\t94\t68\t80\t91\t88\tN.A.\t86\tN.A.\t83\t90\t84\t80\t83\tN.A.\tN.A.\t51\t77\t20\t100\tN.A.\tN.A.\t65\tN.A.\t66\t90\tN.A.\tN.A.\tN.A.\tN.A.\t90\t80\t90\tN.A.\tN.A.\tN.A.\tN.A.\t85\t85\t85\tN.A.\tN.A.\tN.A.\tN.A.\t85\t100\t100\t56\tN.A.\tN.A.\t86\t92\tN.A.\tN.A.\tN.A.\tN.A.\t92\t90\t90\t94\tN.A.\tN.A.\tN.A.\t91\tN.A.\t43\tN.A.\t43\tN.A.\tN.A.\tN.A.\tN.A.\tN.A.\t87\t85\t70\tN.A.\tN.A.\t80\tN.A.\tN.A.\t88\tN.A.\tN.A.\tN.A.\tN.A.\t88\t81.47\n",
    "83\t100\t80\t99\tN.A.\tN.A.\t89\t82\t90\tN.A.\tN.A.\t84\tN.A.\t100\t60\tN.A.\t70\tN.A.\t75\t88\t90\t83\t60\tN.A.\t90\tN.A.\t82\t100\t84\t90\t85\tN.A.\tN.A.\t51\t82\t95\t95\tN.A.\tN.A.\t80\tN.A.\t91\t95\tN.A.\tN.A.\tN.A.\tN.A.\t95\t92\t73\tN.A.\tN.A.\tN.A.\tN.A.\t83\t90\t85\tN.A.\tN.A.\tN.A.\tN.A.\t88\t75\t62\t72\tN.A.\tN.A.\t70\t91\tN.A.\tN.A.\tN.A.\tN.A.\t91\t85\t80\t90\tN.A.\tN.A.\tN.A.\t85\tN.A.\t87\tN.A.\t87\tN.A.\tN.A.\tN.A.\tN.A.\tN.A.\t87\t80\t80\tN.A.\tN.A.\t82\tN.A.\tN.A.\t88\tN.A.\tN.A.\tN.A.\tN.A.\t88\t84.96\n",
    "93\t68\t80\t63\tN.A.\tN.A.\t81\t85\t88\tN.A.\tN.A.\t86\tN.A.\t45\t69\tN.A.\t73\tN.A.\t63\t77\tN.A.\t90\t98\tN.A.\t78\tN.A.\t86\t100\t85\t100\t83\tN.A.\tN.A.\t67\t87\t20\t80\tN.A.\tN.A.\t75\tN.A.\t61\t20\tN.A.\tN.A.\tN.A.\tN.A.\t20\t60\t70\tN.A.\tN.A.\tN.A.\tN.A.\t65\t88\t80\tN.A.\tN.A.\tN.A.\tN.A.\t85\t79\t67\t72\tN.A.\tN.A.\t73\t90\tN.A.\tN.A.\tN.A.\tN.A.\t90\t88\t80\t94\tN.A.\tN.A.\tN.A.\t87\tN.A.\t82\tN.A.\t82\tN.A.\tN.A.\tN.A.\tN.A.\tN.A.\t80\t75\t75\tN.A.\tN.A.\t77\tN.A.\tN.A.\t20\tN.A.\tN.A.\tN.A.\tN.A.\t20\t72.48\n",
    "100\t80\t100\t92\tN.A.\tN.A.\t95\t87\t85\tN.A.\tN.A.\t86\tN.A.\t100\t90\tN.A.\t90\tN.A.\t93\t74\t90\t91\t99\tN.A.\t78\tN.A.\t87\t90\t85\t90\t85\tN.A.\tN.A.\t53\t80\t100\t95\tN.A.\tN.A.\t83\tN.A.\t93\t100\tN.A.\tN.A.\tN.A.\tN.A.\t100\t80\t95\tN.A.\tN.A.\tN.A.\tN.A.\t88\t88\t85\tN.A.\tN.A.\tN.A.\tN.A.\t87\t89\t92\t72\tN.A.\tN.A.\t85\t91\tN.A.\tN.A.\tN.A.\tN.A.\t91\t95\t95\t95\tN.A.\tN.A.\tN.A.\t95\tN.A.\t83\tN.A.\t83\tN.A.\tN.A.\tN.A.\tN.A.\tN.A.\t90\t85\t85\tN.A.\tN.A.\t87\tN.A.\tN.A.\t85\tN.A.\tN.A.\tN.A.\tN.A.\t85\t88.75\n",
    "94\t100\t100\t100\tN.A.\tN.A.\t97\t93\t60\tN.A.\tN.A.\t83\tN.A.\t75\t100\tN.A.\t89\tN.A.\t89\t95\t90\t90\t96\tN.A.\t90\tN.A.\t92\t100\t95\t60\t72\tN.A.\tN.A.\t95\t88\t100\t100\tN.A.\tN.A.\t95\tN.A.\t99\t98\tN.A.\tN.A.\tN.A.\tN.A.\t98\t99\t95\tN.A.\tN.A.\tN.A.\tN.A.\t97\t90\t85\tN.A.\tN.A.\tN.A.\tN.A.\t88\t90\t80\t90\tN.A.\tN.A.\t87\t91\tN.A.\tN.A.\tN.A.\tN.A.\t91\t96\t94\t94\tN.A.\tN.A.\tN.A.\t95\tN.A.\t87\tN.A.\t87\tN.A.\tN.A.\tN.A.\tN.A.\tN.A.\t87\t90\t85\tN.A.\tN.A.\t87\tN.A.\tN.A.\t83\tN.A.\tN.A.\tN.A.\tN.A.\t83\t88.75\n",
    "100\t60\t100\t97\tN.A.\tN.A.\t93\t88\t97\tN.A.\tN.A.\t91\tN.A.\t100\t85\tN.A.\t85\tN.A.\t90\t77\t83\t91\t100\tN.A.\t80\tN.A.\t87\t90\t78\t90\t92\tN.A.\tN.A.\t75\t85\t100\t95\tN.A.\tN.A.\t70\tN.A.\t89\t100\tN.A.\tN.A.\tN.A.\tN.A.\t100\t89\t90\tN.A.\tN.A.\tN.A.\tN.A.\t90\t86\t90\tN.A.\tN.A.\tN.A.\tN.A.\t88\t80\t90\t90\tN.A.\tN.A.\t86\t89\tN.A.\tN.A.\tN.A.\tN.A.\t89\t95\t95\t95\tN.A.\tN.A.\tN.A.\t95\tN.A.\t93\tN.A.\t93\tN.A.\tN.A.\tN.A.\tN.A.\tN.A.\t90\t89\t85\tN.A.\tN.A.\t88\tN.A.\tN.A.\t80\tN.A.\tN.A.\tN.A.\tN.A.\t80\t89.12\n",
    "89\t65\t72\t83\tN.A.\tN.A.\t83\t82\t85\tN.A.\tN.A.\t83\tN.A.\t61\t69\tN.A.\t93\tN.A.\t74\t71\t97\t87\t99\tN.A.\t91\tN.A.\t89\t100\t100\t90\t98\tN.A.\tN.A.\t100\t98\t90\t90\tN.A.\tN.A.\t60\tN.A.\t81\t90\tN.A.\tN.A.\tN.A.\tN.A.\t90\t55\t83\tN.A.\tN.A.\tN.A.\tN.A.\t69\t100\t95\tN.A.\tN.A.\tN.A.\tN.A.\t98\t89\t75\t82\tN.A.\tN.A.\t83\t89\tN.A.\tN.A.\tN.A.\tN.A.\t89\t93\t92\t94\tN.A.\tN.A.\tN.A.\t93\tN.A.\t87\tN.A.\t87\tN.A.\tN.A.\tN.A.\tN.A.\tN.A.\t87\t80\t80\tN.A.\tN.A.\t82\tN.A.\tN.A.\t88\tN.A.\tN.A.\tN.A.\tN.A.\t88\t86.37\n",
    "93\t100\t93\t100\tN.A.\tN.A.\t96\t93\t90\tN.A.\tN.A.\t92\tN.A.\t100\t100\tN.A.\t100\tN.A.\t100\t81\t100\t99\t100\tN.A.\t81\tN.A.\t92\t90\t85\t90\t97\tN.A.\tN.A.\t91\t91\t100\t100\tN.A.\tN.A.\t100\tN.A.\t100\t100\tN.A.\tN.A.\tN.A.\tN.A.\t100\t94\t95\tN.A.\tN.A.\tN.A.\tN.A.\t95\t88\t100\tN.A.\tN.A.\tN.A.\tN.A.\t93\t90\t90\t90\tN.A.\tN.A.\t90\t99\tN.A.\tN.A.\tN.A.\tN.A.\t99\t90\t90\t95\tN.A.\tN.A.\tN.A.\t92\tN.A.\t93\tN.A.\t93\tN.A.\tN.A.\tN.A.\tN.A.\tN.A.\t90\t90\t95\tN.A.\tN.A.\t92\tN.A.\tN.A.\t90\tN.A.\tN.A.\tN.A.\tN.A.\t90\t94.31\n",
    "88\t60\t87\t68\tN.A.\tN.A.\t79\t88\t75\tN.A.\tN.A.\t84\tN.A.\t78\t100\tN.A.\t79\tN.A.\t87\t77\t88\t91\t84\tN.A.\t88\tN.A.\t86\t90\t85\t85\t87\tN.A.\tN.A.\t62\t82\t100\t80\tN.A.\tN.A.\t90\tN.A.\t89\t100\tN.A.\tN.A.\tN.A.\tN.A.\t100\t68\t95\tN.A.\tN.A.\tN.A.\tN.A.\t82\t100\t90\tN.A.\tN.A.\tN.A.\tN.A.\t96\t79\t78\t72\tN.A.\tN.A.\t77\t84\tN.A.\tN.A.\tN.A.\tN.A.\t84\t92\t90\t94\tN.A.\tN.A.\tN.A.\t92\tN.A.\t90\tN.A.\t90\tN.A.\tN.A.\tN.A.\tN.A.\tN.A.\t90\t80\t80\tN.A.\tN.A.\t83\tN.A.\tN.A.\t90\tN.A.\tN.A.\tN.A.\tN.A.\t90\t86.63\n",
    "93\t70\t80\t98\tN.A.\tN.A.\t90\t88\t75\tN.A.\tN.A.\t84\tN.A.\t100\t94\tN.A.\t75\tN.A.\t90\t81\t100\t91\t90\tN.A.\t90\tN.A.\t90\t90\t83\t90\t88\tN.A.\tN.A.\t70\t84\t95\t85\tN.A.\tN.A.\t85\tN.A.\t88\t90\tN.A.\tN.A.\tN.A.\tN.A.\t90\t85\t80\tN.A.\tN.A.\tN.A.\tN.A.\t83\t88\t85\tN.A.\tN.A.\tN.A.\tN.A.\t87\t78\t90\t56\tN.A.\tN.A.\t75\t99\tN.A.\tN.A.\tN.A.\tN.A.\t99\t90\t90\t90\tN.A.\tN.A.\tN.A.\t90\tN.A.\t87\tN.A.\t87\tN.A.\tN.A.\tN.A.\tN.A.\tN.A.\t87\t75\t75\tN.A.\tN.A.\t79\tN.A.\tN.A.\t88\tN.A.\tN.A.\tN.A.\tN.A.\t88\t86.13\n",
    "75\t100\t93\t83\tN.A.\tN.A.\t82\t90\t83\tN.A.\tN.A.\t88\tN.A.\t100\t100\tN.A.\t78\tN.A.\t93\t74\t85\t86\t95\tN.A.\t90\tN.A.\t87\t90\t85\t100\t95\tN.A.\tN.A.\t74\t88\t90\t80\tN.A.\tN.A.\t70\tN.A.\t80\t98\tN.A.\tN.A.\tN.A.\tN.A.\t98\t63\t88\tN.A.\tN.A.\tN.A.\tN.A.\t76\t90\t80\tN.A.\tN.A.\tN.A.\tN.A.\t86\t100\t95\t90\tN.A.\tN.A.\t95\t94\tN.A.\tN.A.\tN.A.\tN.A.\t94\t90\t86\t94\tN.A.\tN.A.\tN.A.\t90\tN.A.\t90\tN.A.\t90\tN.A.\tN.A.\tN.A.\tN.A.\tN.A.\t85\t90\t90\tN.A.\tN.A.\t88\tN.A.\tN.A.\t85\tN.A.\tN.A.\tN.A.\tN.A.\t85\t85.85\n",
    "59\t60\t57\t97\tN.A.\tN.A.\t68\t85\t50\tN.A.\tN.A.\t74\tN.A.\t78\t85\tN.A.\t68\tN.A.\t78\t66\t100\t95\t80\tN.A.\t73\tN.A.\t83\t90\t50\t50\t65\tN.A.\tN.A.\t36\t61\t20\t100\tN.A.\tN.A.\t20\tN.A.\t52\t20\tN.A.\tN.A.\tN.A.\tN.A.\t20\t90\t70\tN.A.\tN.A.\tN.A.\tN.A.\t80\t80\t85\tN.A.\tN.A.\tN.A.\tN.A.\t82\tN.A.\tN.A.\tN.A.\tN.A.\tN.A.\tN.A.\t90\tN.A.\tN.A.\tN.A.\tN.A.\t90\t95\t95\t95\tN.A.\tN.A.\tN.A.\t95\tN.A.\t60\tN.A.\t60\tN.A.\tN.A.\tN.A.\tN.A.\tN.A.\t75\t75\t75\tN.A.\tN.A.\t75\tN.A.\tN.A.\t75\tN.A.\tN.A.\tN.A.\tN.A.\t75\t73.46\n",
    "100\t75\t97\t86\tN.A.\tN.A.\t93\t73\t73\tN.A.\tN.A.\t73\tN.A.\t100\t88\tN.A.\t88\tN.A.\t92\t91\t100\t92\t81\tN.A.\t80\tN.A.\t88\t80\t83\t90\t90\tN.A.\tN.A.\t51\t77\t95\t90\tN.A.\tN.A.\t85\tN.A.\t90\t100\tN.A.\tN.A.\tN.A.\tN.A.\t100\t70\t90\tN.A.\tN.A.\tN.A.\tN.A.\t80\t88\t80\tN.A.\tN.A.\tN.A.\tN.A.\t85\t80\t95\t90\tN.A.\tN.A.\t88\t70\tN.A.\tN.A.\tN.A.\tN.A.\t70\t88\t91\t94\tN.A.\tN.A.\tN.A.\t91\tN.A.\t63\tN.A.\t63\tN.A.\tN.A.\tN.A.\tN.A.\tN.A.\t85\t85\t85\tN.A.\tN.A.\t85\tN.A.\tN.A.\t85\tN.A.\tN.A.\tN.A.\tN.A.\t85\t83.33\n",
    "91\t80\t97\t84\tN.A.\tN.A.\t88\t93\t95\tN.A.\tN.A.\t94\tN.A.\t92\t100\tN.A.\t78\tN.A.\t91\t68\tN.A.\t97\t100\tN.A.\t96\tN.A.\t92\t100\t100\t60\t72\tN.A.\tN.A.\t89\t87\t20\t100\tN.A.\tN.A.\t100\tN.A.\t76\t90\tN.A.\tN.A.\tN.A.\tN.A.\t90\tN.A.\t92\tN.A.\tN.A.\tN.A.\tN.A.\t92\t90\t90\tN.A.\tN.A.\tN.A.\tN.A.\t90\t90\t80\t90\tN.A.\tN.A.\t87\t86\tN.A.\tN.A.\tN.A.\tN.A.\t86\t94\t95\t95\tN.A.\tN.A.\tN.A.\t95\tN.A.\t90\tN.A.\t90\tN.A.\tN.A.\tN.A.\tN.A.\tN.A.\t95\t95\t95\tN.A.\tN.A.\t95\tN.A.\tN.A.\t88\tN.A.\tN.A.\tN.A.\tN.A.\t88\t89.42\n",
    "86\t100\t97\t68\tN.A.\tN.A.\t85\t87\t90\tN.A.\tN.A.\t88\tN.A.\t75\t100\tN.A.\t70\tN.A.\t84\t82\t100\t89\t93\tN.A.\t80\tN.A.\t88\t100\t95\t100\t97\tN.A.\tN.A.\t75\t93\t100\t95\tN.A.\tN.A.\t75\tN.A.\t91\t100\tN.A.\tN.A.\tN.A.\tN.A.\t100\t83\t88\tN.A.\tN.A.\tN.A.\tN.A.\t86\t88\t90\tN.A.\tN.A.\tN.A.\tN.A.\t89\t80\t95\t52\tN.A.\tN.A.\t76\t84\tN.A.\tN.A.\tN.A.\tN.A.\t84\t92\t92\t94\tN.A.\tN.A.\tN.A.\t93\tN.A.\t92\tN.A.\t92\tN.A.\tN.A.\tN.A.\tN.A.\tN.A.\t97\t95\t90\tN.A.\tN.A.\t94\tN.A.\tN.A.\t80\tN.A.\tN.A.\tN.A.\tN.A.\t80\t88.41\n",
    "95\t63\t82\t91\tN.A.\tN.A.\t88\t85\t80\tN.A.\tN.A.\t83\tN.A.\t74\t68\tN.A.\t63\tN.A.\t68\t77\t85\t80\t90\tN.A.\t85\tN.A.\t83\t80\t75\t90\t78\tN.A.\tN.A.\t26\t68\t100\t20\tN.A.\tN.A.\t65\tN.A.\t58\t100\tN.A.\tN.A.\tN.A.\tN.A.\t100\tN.A.\t95\tN.A.\tN.A.\tN.A.\tN.A.\t95\t90\t90\tN.A.\tN.A.\tN.A.\tN.A.\t90\tN.A.\tN.A.\t60\tN.A.\tN.A.\t60\t95\tN.A.\tN.A.\tN.A.\tN.A.\t95\t85\t80\t90\tN.A.\tN.A.\tN.A.\t85\tN.A.\t87\tN.A.\t87\tN.A.\tN.A.\tN.A.\tN.A.\tN.A.\t80\t75\t75\tN.A.\tN.A.\t77\tN.A.\tN.A.\t75\tN.A.\tN.A.\tN.A.\tN.A.\t75\t80.15\n",
    "95\t40\t97\t94\tN.A.\tN.A.\t86\t93\t50\tN.A.\tN.A.\t80\tN.A.\t100\t100\tN.A.\t100\tN.A.\t100\t72\t95\t96\t100\tN.A.\t78\tN.A.\t88\t100\t100\t100\t98\tN.A.\tN.A.\t59\t90\t95\t90\tN.A.\tN.A.\t20\tN.A.\t71\t90\tN.A.\tN.A.\tN.A.\tN.A.\t90\t95\t95\tN.A.\tN.A.\tN.A.\tN.A.\t95\t88\tN.A.\tN.A.\tN.A.\tN.A.\tN.A.\t88\tN.A.\tN.A.\tN.A.\tN.A.\tN.A.\tN.A.\t94\tN.A.\tN.A.\tN.A.\tN.A.\t94\t92\t95\t94\tN.A.\tN.A.\tN.A.\t94\tN.A.\t70\tN.A.\t70\tN.A.\tN.A.\tN.A.\tN.A.\tN.A.\t87\t85\t85\tN.A.\tN.A.\t86\tN.A.\tN.A.\t88\tN.A.\tN.A.\tN.A.\tN.A.\t88\t87.47\n",
    "90\t85\t97\t86\tN.A.\tN.A.\t89\t93\t80\tN.A.\tN.A.\t89\tN.A.\t73\t100\tN.A.\t95\tN.A.\t90\t79\t100\t88\t71\tN.A.\t78\tN.A.\t83\t100\t95\t90\t98\tN.A.\tN.A.\t83\t93\t20\t95\tN.A.\tN.A.\t72\tN.A.\t66\t90\tN.A.\tN.A.\tN.A.\tN.A.\t90\t70\tN.A.\tN.A.\tN.A.\tN.A.\tN.A.\t70\t100\t95\tN.A.\tN.A.\tN.A.\tN.A.\t98\t100\t78\t90\tN.A.\tN.A.\t90\t90\tN.A.\tN.A.\tN.A.\tN.A.\t90\t91\t80\t94\tN.A.\tN.A.\tN.A.\t88\tN.A.\t80\tN.A.\t80\tN.A.\tN.A.\tN.A.\tN.A.\tN.A.\t80\t75\t75\tN.A.\tN.A.\t77\tN.A.\tN.A.\t85\tN.A.\tN.A.\tN.A.\tN.A.\t85\t84.85\n",
    "\n"
   ]
  },
  {
   "cell_type": "code",
   "execution_count": 1,
   "metadata": {},
   "outputs": [],
   "source": [
    "import tensorflow  as tf\n",
    "import numpy as np \n",
    "import zipfile\n",
    "import pandas as pd\n",
    "import matplotlib.pyplot as plt \n",
    "import seaborn as sns \n",
    "import cv2\n",
    "\n",
    "from tensorflow.keras.datasets import mnist\n",
    "\n",
    "from sklearn.preprocessing import LabelBinarizer\n",
    "from sklearn.model_selection import train_test_split\n",
    "from sklearn.metrics import classification_report\n",
    "from tensorflow.keras.preprocessing.image import ImageDataGenerator\n",
    "\n",
    "from tensorflow.keras.models import Sequential\n",
    "from tensorflow.keras.layers import Conv2D, MaxPool2D, Flatten, Dense\n",
    "from tensorflow.keras.callbacks import ModelCheckpoint\n",
    "\n",
    "import imutils\n",
    "from imutils.contours import sort_contours"
   ]
  },
  {
   "cell_type": "code",
   "execution_count": 45,
   "metadata": {},
   "outputs": [
    {
     "name": "stdout",
     "output_type": "stream",
     "text": [
      "1/1 [==============================] - 0s 72ms/step\n",
      "1/1 [==============================] - 0s 19ms/step\n",
      "1/1 [==============================] - 0s 19ms/step\n",
      "1/1 [==============================] - 0s 19ms/step\n",
      "1/1 [==============================] - 0s 18ms/step\n",
      "1/1 [==============================] - 0s 19ms/step\n",
      "1/1 [==============================] - 0s 17ms/step\n",
      "1/1 [==============================] - 0s 19ms/step\n",
      "1/1 [==============================] - 0s 18ms/step\n",
      "1/1 [==============================] - 0s 18ms/step\n",
      "1/1 [==============================] - 0s 17ms/step\n",
      "1/1 [==============================] - 0s 19ms/step\n",
      "1/1 [==============================] - 0s 18ms/step\n",
      "1/1 [==============================] - 0s 18ms/step\n",
      "['A', '1', 'A', 'Z', 'A', '3', 'A', '4', 'A', '5', 'A', 'G', 'A', '7']\n"
     ]
    },
    {
     "data": {
      "image/png": "[encoded data removed]",
      "text/plain": [
       "<Figure size 640x480 with 1 Axes>"
      ]
     },
     "metadata": {},
     "output_type": "display_data"
    },
    {
     "data": {
      "image/png": "[encoded data removed]",
      "text/plain": [
       "<Figure size 2000x500 with 14 Axes>"
      ]
     },
     "metadata": {},
     "output_type": "display_data"
    }
   ],
   "source": [
    "model = tf.keras.models.load_model('./models/second_model.h5')\n",
    "\n",
    "name_labels = '0123456789'\n",
    "name_labels += 'ABCDEFGHIJKLMNOPQRSTUVWXYZ'\n",
    "name_labels = [l for l in name_labels]\n",
    "len(name_labels)\n",
    "\n",
    "def preprocessing_img(path_img):\n",
    "    img = cv2.cvtColor(cv2.imread(path_img), cv2.COLOR_BGR2GRAY) \n",
    "    thresh = cv2.adaptiveThreshold(img, 255, cv2.ADAPTIVE_THRESH_GAUSSIAN_C, cv2.THRESH_BINARY, 11, 9)\n",
    "    # thresh = cv2.erode(thresh, np.ones((3,3), np.uint8))\n",
    "\n",
    "    thresh = cv2.Canny(thresh, 40, 150)\n",
    "    thresh = cv2.dilate(thresh, np.ones((2, 2), np.uint8))\n",
    "    # thresh = cv2.GaussianBlur(thresh, (5,5), 0)\n",
    "\n",
    "    return img, thresh\n",
    "\n",
    "gray, thresh = preprocessing_img(path_img='image.png')\n",
    "\n",
    "\n",
    "    \n",
    "def find_contours(img):\n",
    "    img_copy = img.copy()\n",
    "    conts = cv2.findContours(img, cv2.RETR_EXTERNAL, cv2.CHAIN_APPROX_SIMPLE)\n",
    "    conts = imutils.grab_contours(conts)\n",
    "    conts = sort_contours(conts, method='left-to-right')[0]\n",
    "\n",
    "    min_w, max_w = 5, 50\n",
    "    min_h, max_h = 10, 40 \n",
    "    n = 5\n",
    "    letters = []\n",
    "    conts_2 = []\n",
    "    for c in conts:\n",
    "        (x, y, w, h) = cv2.boundingRect(c)\n",
    "        if (w >= min_w and w < max_w) and (h >= min_h and h < max_h):\n",
    "            img_p = gray[y-n : y+h+n,   x-n : x+n+w ]\n",
    "            cv2.rectangle(img_copy, (x,y), (x+w, h+y), (255,100,0),2)\n",
    "            img_p = cv2.threshold(img_p, 0, 255, cv2.THRESH_BINARY_INV | cv2.THRESH_OTSU)[1]\n",
    "            img_p = cv2.dilate(img_p, np.ones((2,2), np.uint8 ))\n",
    "            letters.append(img_p)\n",
    "            conts_2.append(c)\n",
    "    plt.imshow(img_copy, cmap='gray');\n",
    "    return letters, conts_2\n",
    "\n",
    "def img_prediction(img, model, name_labels):\n",
    "    img = cv2.resize(img, (28,28))\n",
    "    img = img.astype('float32')/255.0\n",
    "    img = np.expand_dims(img, axis=-1)\n",
    "    img = np.reshape(img, (1,28,28,1))\n",
    "\n",
    "    prediction = model.predict(img)\n",
    "    prediction = name_labels[np.argmax(prediction)]\n",
    "\n",
    "    return prediction\n",
    "\n",
    "letters = find_contours(thresh)[0]\n",
    "\n",
    "img_predictions = []\n",
    "for letter in letters:\n",
    "    img = img_prediction(letter, model, name_labels)\n",
    "    img_predictions.append(img)\n",
    "\n",
    "print(img_predictions)\n",
    "\n",
    "fig, axes = plt.subplots(1, len(letters), figsize=(20,5) )\n",
    "\n",
    "for i, letter in enumerate(letters):\n",
    "    letter = cv2.resize(letter, (28,28))\n",
    "    axes[i].imshow(letter, cmap='gray')\n",
    "\n",
    "    axes[i].axis('off')"
   ]
  },
  {
   "cell_type": "code",
   "execution_count": 42,
   "metadata": {},
   "outputs": [
    {
     "data": {
      "text/html": [
       "<style type=\"text/css\">\n",
       "#T_5cfba td {\n",
       "  padding: 20px;\n",
       "}\n",
       "#T_5cfba  th {\n",
       "  padding: 20px;\n",
       "}\n",
       "#T_5cfba_row0_col0, #T_5cfba_row0_col1, #T_5cfba_row0_col2, #T_5cfba_row0_col3, #T_5cfba_row0_col4, #T_5cfba_row0_col5, #T_5cfba_row0_col6, #T_5cfba_row0_col7, #T_5cfba_row1_col0, #T_5cfba_row1_col1, #T_5cfba_row1_col2, #T_5cfba_row1_col3, #T_5cfba_row1_col4, #T_5cfba_row1_col5, #T_5cfba_row1_col6, #T_5cfba_row1_col7 {\n",
       "  font-family: Tahoma;\n",
       "  font-size: 14pt;\n",
       "}\n",
       "</style>\n",
       "<table id=\"T_5cfba\">\n",
       "  <thead>\n",
       "    <tr>\n",
       "      <th class=\"blank level0\" >&nbsp;</th>\n",
       "      <th id=\"T_5cfba_level0_col0\" class=\"col_heading level0 col0\" >0</th>\n",
       "      <th id=\"T_5cfba_level0_col1\" class=\"col_heading level0 col1\" >1</th>\n",
       "      <th id=\"T_5cfba_level0_col2\" class=\"col_heading level0 col2\" >2</th>\n",
       "      <th id=\"T_5cfba_level0_col3\" class=\"col_heading level0 col3\" >3</th>\n",
       "      <th id=\"T_5cfba_level0_col4\" class=\"col_heading level0 col4\" >4</th>\n",
       "      <th id=\"T_5cfba_level0_col5\" class=\"col_heading level0 col5\" >5</th>\n",
       "      <th id=\"T_5cfba_level0_col6\" class=\"col_heading level0 col6\" >6</th>\n",
       "      <th id=\"T_5cfba_level0_col7\" class=\"col_heading level0 col7\" >7</th>\n",
       "    </tr>\n",
       "  </thead>\n",
       "  <tbody>\n",
       "    <tr>\n",
       "      <th id=\"T_5cfba_level0_row0\" class=\"row_heading level0 row0\" >P  R  E  G  U  N  T  A</th>\n",
       "      <td id=\"T_5cfba_row0_col0\" class=\"data row0 col0\" >1</td>\n",
       "      <td id=\"T_5cfba_row0_col1\" class=\"data row0 col1\" >2</td>\n",
       "      <td id=\"T_5cfba_row0_col2\" class=\"data row0 col2\" >3</td>\n",
       "      <td id=\"T_5cfba_row0_col3\" class=\"data row0 col3\" >4</td>\n",
       "      <td id=\"T_5cfba_row0_col4\" class=\"data row0 col4\" >5</td>\n",
       "      <td id=\"T_5cfba_row0_col5\" class=\"data row0 col5\" >6</td>\n",
       "      <td id=\"T_5cfba_row0_col6\" class=\"data row0 col6\" >7</td>\n",
       "      <td id=\"T_5cfba_row0_col7\" class=\"data row0 col7\" >8</td>\n",
       "    </tr>\n",
       "    <tr>\n",
       "      <th id=\"T_5cfba_level0_row1\" class=\"row_heading level0 row1\" >R  E  S  P  U  E  S  T  A </th>\n",
       "      <td id=\"T_5cfba_row1_col0\" class=\"data row1 col0\" ></td>\n",
       "      <td id=\"T_5cfba_row1_col1\" class=\"data row1 col1\" ></td>\n",
       "      <td id=\"T_5cfba_row1_col2\" class=\"data row1 col2\" ></td>\n",
       "      <td id=\"T_5cfba_row1_col3\" class=\"data row1 col3\" ></td>\n",
       "      <td id=\"T_5cfba_row1_col4\" class=\"data row1 col4\" ></td>\n",
       "      <td id=\"T_5cfba_row1_col5\" class=\"data row1 col5\" ></td>\n",
       "      <td id=\"T_5cfba_row1_col6\" class=\"data row1 col6\" ></td>\n",
       "      <td id=\"T_5cfba_row1_col7\" class=\"data row1 col7\" ></td>\n",
       "    </tr>\n",
       "  </tbody>\n",
       "</table>\n"
      ],
      "text/plain": [
       "<pandas.io.formats.style.Styler at 0x29b5d326fe0>"
      ]
     },
     "execution_count": 42,
     "metadata": {},
     "output_type": "execute_result"
    }
   ],
   "source": [
    "\n",
    "def df_show(num_options, num_questions):\n",
    "    num_options_list = ['' for i in range(num_options)]\n",
    "    num_questions_list = [1+i for i in range(num_options)]\n",
    "\n",
    "    df = {\n",
    "        'P  R  E  G  U  N  T  A': num_questions_list,\n",
    "        'R  E  S  P  U  E  S  T  A ': num_options_list\n",
    "        }\n",
    "    df = pd.DataFrame(df)\n",
    "    df = df.transpose()\n",
    "    df = df.style.set_properties(**{'font-family': 'Tahoma', 'font-size': '14pt'}) \\\n",
    "                        .set_table_styles([{\n",
    "                            'selector': 'td, th',\n",
    "                            'props': [('padding', '20px')]\n",
    "                        }])\n",
    "    with pd.ExcelWriter('df.xlsx', engine='openpyxl') as df_1:\n",
    "        df.to_excel(df_1, index=True, header=False)\n",
    "\n",
    "    return df\n",
    "\n",
    "df = df_show(num_options= 8, num_questions= 7)\n",
    "df\n"
   ]
  },
  {
   "cell_type": "code",
   "execution_count": 1,
   "metadata": {},
   "outputs": [
    {
     "data": {
      "text/html": [
       "<div>\n",
       "<style scoped>\n",
       "    .dataframe tbody tr th:only-of-type {\n",
       "        vertical-align: middle;\n",
       "    }\n",
       "\n",
       "    .dataframe tbody tr th {\n",
       "        vertical-align: top;\n",
       "    }\n",
       "\n",
       "    .dataframe thead th {\n",
       "        text-align: right;\n",
       "    }\n",
       "</style>\n",
       "<table border=\"1\" class=\"dataframe\">\n",
       "  <thead>\n",
       "    <tr style=\"text-align: right;\">\n",
       "      <th></th>\n",
       "      <th>0</th>\n",
       "      <th>1</th>\n",
       "      <th>2</th>\n",
       "      <th>3</th>\n",
       "      <th>4</th>\n",
       "      <th>5</th>\n",
       "      <th>6</th>\n",
       "      <th>7</th>\n",
       "      <th>8</th>\n",
       "      <th>9</th>\n",
       "    </tr>\n",
       "  </thead>\n",
       "  <tbody>\n",
       "    <tr>\n",
       "      <th>P  R  E  G  U  N  T  A</th>\n",
       "      <td>1</td>\n",
       "      <td>2</td>\n",
       "      <td>3</td>\n",
       "      <td>4</td>\n",
       "      <td>5</td>\n",
       "      <td>6</td>\n",
       "      <td>7</td>\n",
       "      <td>8</td>\n",
       "      <td>9</td>\n",
       "      <td>10</td>\n",
       "    </tr>\n",
       "    <tr>\n",
       "      <th>R  E  S  P  U  E  S  T  A</th>\n",
       "      <td></td>\n",
       "      <td></td>\n",
       "      <td></td>\n",
       "      <td></td>\n",
       "      <td></td>\n",
       "      <td></td>\n",
       "      <td></td>\n",
       "      <td></td>\n",
       "      <td></td>\n",
       "      <td></td>\n",
       "    </tr>\n",
       "  </tbody>\n",
       "</table>\n",
       "</div>"
      ],
      "text/plain": [
       "                            0  1  2  3  4  5  6  7  8   9\n",
       "P  R  E  G  U  N  T  A      1  2  3  4  5  6  7  8  9  10\n",
       "R  E  S  P  U  E  S  T  A                                "
      ]
     },
     "execution_count": 1,
     "metadata": {},
     "output_type": "execute_result"
    }
   ],
   "source": [
    "import pandas as pd\n",
    "from openpyxl import Workbook\n",
    "from openpyxl.styles import Font, Alignment, Border, Side\n",
    "from openpyxl.utils.dataframe import dataframe_to_rows\n",
    "\n",
    "def df_show(num_options, num_questions):\n",
    "    num_options_list = ['' for _ in range(num_questions)]\n",
    "    num_questions_list = [1 + i for i in range(num_questions)]\n",
    "\n",
    "    df = {\n",
    "        'P  R  E  G  U  N  T  A': num_questions_list,\n",
    "        'R  E  S  P  U  E  S  T  A ': num_options_list\n",
    "    }\n",
    "    df = pd.DataFrame(df)\n",
    "    df = df.transpose()\n",
    "\n",
    "    wb = Workbook()\n",
    "    ws = wb.active\n",
    "\n",
    "    border_style = Border(\n",
    "        left=Side(style='thin'),\n",
    "        right=Side(style='thin'),\n",
    "        top=Side(style='thin'),\n",
    "        bottom=Side(style='thin')\n",
    "    )\n",
    "\n",
    "    for r_idx, row in enumerate(dataframe_to_rows(df, index=True, header=False), 1):\n",
    "        for c_idx, value in enumerate(row, 1):\n",
    "            cell = ws.cell(row=r_idx, column=c_idx, value=value)\n",
    "            cell.font = Font(name='Tahoma', size=14)\n",
    "            cell.alignment = Alignment(horizontal='center', vertical='center')  \n",
    "            cell.border = border_style  \n",
    "\n",
    "    first_col_letter = ws.cell(row=1, column=1).column_letter\n",
    "    ws.column_dimensions[first_col_letter].width = 40  \n",
    "\n",
    "    default_width = 10  \n",
    "    for c_idx, col in enumerate(df.columns, start=2):  \n",
    "        col_letter = chr(64 + c_idx)  \n",
    "        ws.column_dimensions[col_letter].width = default_width\n",
    "\n",
    "    for row in ws.rows:\n",
    "        row_number = row[0].row\n",
    "        ws.row_dimensions[row_number].height = 30 \n",
    "\n",
    "    wb.save('df.xlsx')\n",
    "\n",
    "    return df\n",
    "\n",
    "df = df_show(num_options=8, num_questions=10)\n",
    "df\n",
    "\n"
   ]
  },
  {
   "cell_type": "code",
   "execution_count": 95,
   "metadata": {},
   "outputs": [
    {
     "data": {
      "text/plain": [
       "95"
      ]
     },
     "execution_count": 95,
     "metadata": {},
     "output_type": "execute_result"
    }
   ],
   "source": [
    "score_student = [75, 85, 65, 95, 55, 85, 90, 75, 95, 95]\n",
    "\n",
    "dict_1 = {}\n",
    "for i in score_student:\n",
    "    if i not in dict_1:\n",
    "        dict_1[i] = 1\n",
    "    else:\n",
    "        dict_1[i] += 1\n",
    "\n",
    "response = next(key for key, value in dict_1.items() if value == max(dict_1.values()))\n",
    "response"
   ]
  },
  {
   "cell_type": "code",
   "execution_count": null,
   "metadata": {},
   "outputs": [],
   "source": [
    "import pandas as pd\n",
    "import matplotlib.pyplot as plt \n",
    "import seaborn as sns \n",
    "\n",
    "path_f = 'results.xlsx'\n",
    "def mode(score_student):\n",
    "    \n",
    "    dict_1 = {}\n",
    "    for i in score_student:\n",
    "        if i not in dict_1:\n",
    "            dict_1[i] = 1\n",
    "        else:\n",
    "            dict_1[i] += 1\n",
    "    response = next( key for key, value in dict_1.items() if value == max(dict_1.values()))\n",
    "    return response\n",
    "\n",
    "def statistics(path_file):\n",
    "    df = pd.read_excel(io=path_f)\n",
    "    score_student = df['exam_grade']\n",
    "    mean_score = score_student.mean()\n",
    "    median_score = score_student.median()\n",
    "    std_score = score_student.std()\n",
    "    var_score = score_student.var()\n",
    "    mode_score = mode(score_student)\n",
    "    max_score = score_student.max()\n",
    "    min_score = score_student.min()\n",
    "\n",
    "    approved_students = 0\n",
    "    failed_students = 0\n",
    "    \n",
    "    for i in score_student:\n",
    "        if i >= 70:\n",
    "            approved_students+=1 \n",
    "        else:\n",
    "            failed_students += 1\n",
    "\n",
    "    return mean_score, median_score, mode_score, std_score, var_score, max_score, min_score, approved_students, failed_students\n",
    "\n",
    "\n",
    "def graphics(path_file):\n",
    "    df = pd.read_excel(io=path_f)\n",
    "    score_student = df['exam_grade']\n",
    "\n",
    "    colors = ['green' if score >= 70 else 'red' for score in score_student ]\n",
    "\n",
    "    plt.figure(figsize=(10,6))\n",
    "    plt.bar(x= [i+1 for i in range(len(score_student))], height= score_student, color=colors)\n",
    "    plt.title('Grade and students')\n",
    "    plt.xlabel('List number')\n",
    "    plt.ylabel('Score')\n",
    "    image_bar = 'bar_plot.png'\n",
    "    plt.savefig('bar_plot.png')\n",
    "    plt.close()\n",
    "\n",
    "    dict_2 = {}\n",
    "    for i in score_student:\n",
    "        if i  in dict_2:\n",
    "            dict_2[i] += 1\n",
    "        else:\n",
    "            dict_2[i] = 1\n",
    "        \n",
    "    scores = list(dict_2.keys())\n",
    "    frec_answ = list(dict_2.values())\n",
    "\n",
    "    colors_2 = ['green' if score >= 70 else 'red' for score in scores]\n",
    "    plt.figure(figsize=(10,6))\n",
    "    plt.bar(x = scores, height=frec_answ, color=colors_2)\n",
    "    plt.title('Frecuency and score')\n",
    "    plt.xlabel('Score')\n",
    "    plt.ylabel('Frecuency')\n",
    "    image_frec = 'bar_fre_plot.png'\n",
    "    plt.savefig(image_frec)\n",
    "    plt.close()\n",
    "\n",
    "\n",
    "\n",
    "    plt.figure(figsize=(10,6))\n",
    "    plt.pie(x=frec_answ, labels= [f'{i} points' for i in scores] , startangle=0, autopct='%1.1f%%')\n",
    "    plt.title('Frecuency and score')\n",
    "    image_chart_frec = 'pie_chart_frec.png'\n",
    "    plt.savefig(image_chart_frec)\n",
    "    plt.close()\n",
    "\n",
    "\n",
    "    \n",
    "    plt.figure(figsize=(10,6))\n",
    "    plt.pie(x=score_student, labels = [f'Student {i+1} ' for i in range(len(score_student))])\n",
    "    image_chart = 'pie_chart.png'\n",
    "    plt.savefig(image_chart)\n",
    "    plt.close()\n",
    "\n",
    "\n",
    "    return image_bar, image_chart, image_frec, image_chart_frec\n",
    "\n",
    "image_bar, image_chart, image_frec, image_chart_frec = graphics(path_file=path_f)\n",
    "mean_score, median_score, mode_score, std_score, var_score, max_score, min_score, approved_students, failed_students = statistics(path_file=path_f)"
   ]
  },
  {
   "cell_type": "code",
   "execution_count": 99,
   "metadata": {},
   "outputs": [
    {
     "name": "stdout",
     "output_type": "stream",
     "text": [
      "28.2\n",
      "14.0\n",
      "14\n",
      "24.681977230359806\n",
      "609.1999999999999\n",
      "71\n",
      "14\n",
      "1\n",
      "4\n"
     ]
    }
   ],
   "source": [
    "mean_score, median_score, mode_score, std_score, var_score, max_score, min_score, approved_students, failed_students = statistics(path_file=path_f)\n",
    "\n",
    "l_1 = [mean_score, median_score, mode_score, std_score, var_score, max_score, min_score, approved_students, failed_students ]\n",
    "\n",
    "for i in l_1:\n",
    "    print(i)"
   ]
  },
  {
   "cell_type": "code",
   "execution_count": 100,
   "metadata": {},
   "outputs": [
    {
     "data": {
      "text/plain": [
       "14.0"
      ]
     },
     "execution_count": 100,
     "metadata": {},
     "output_type": "execute_result"
    }
   ],
   "source": [
    "median_score"
   ]
  },
  {
   "cell_type": "code",
   "execution_count": 87,
   "metadata": {},
   "outputs": [
    {
     "data": {
      "text/plain": [
       "(-0.5, 999.5, 599.5, -0.5)"
      ]
     },
     "execution_count": 87,
     "metadata": {},
     "output_type": "execute_result"
    },
    {
     "data": {
      "image/png": "[encoded data removed]",
      "text/plain": [
       "<Figure size 640x480 with 1 Axes>"
      ]
     },
     "metadata": {},
     "output_type": "display_data"
    }
   ],
   "source": [
    "\n",
    "plt.imshow(plt.imread(image_frec));\n",
    "plt.axis('off')"
   ]
  },
  {
   "cell_type": "code",
   "execution_count": 88,
   "metadata": {},
   "outputs": [
    {
     "data": {
      "text/plain": [
       "(-0.5, 999.5, 599.5, -0.5)"
      ]
     },
     "execution_count": 88,
     "metadata": {},
     "output_type": "execute_result"
    },
    {
     "data": {
      "image/png": "[encoded data removed]",
      "text/plain": [
       "<Figure size 640x480 with 1 Axes>"
      ]
     },
     "metadata": {},
     "output_type": "display_data"
    }
   ],
   "source": [
    "\n",
    "plt.imshow(plt.imread(image_bar));\n",
    "plt.axis('off')"
   ]
  },
  {
   "cell_type": "code",
   "execution_count": 89,
   "metadata": {},
   "outputs": [
    {
     "data": {
      "text/plain": [
       "(-0.5, 999.5, 599.5, -0.5)"
      ]
     },
     "execution_count": 89,
     "metadata": {},
     "output_type": "execute_result"
    },
    {
     "data": {
      "image/png": "[encoded data removed]",
      "text/plain": [
       "<Figure size 640x480 with 1 Axes>"
      ]
     },
     "metadata": {},
     "output_type": "display_data"
    }
   ],
   "source": [
    "import cv2\n",
    "\n",
    "plt.imshow(plt.imread(image_chart_frec));\n",
    "plt.axis('off')"
   ]
  },
  {
   "cell_type": "code",
   "execution_count": 90,
   "metadata": {},
   "outputs": [
    {
     "data": {
      "text/plain": [
       "(-0.5, 999.5, 599.5, -0.5)"
      ]
     },
     "execution_count": 90,
     "metadata": {},
     "output_type": "execute_result"
    },
    {
     "data": {
      "image/png": "[encoded data removed]",
      "text/plain": [
       "<Figure size 640x480 with 1 Axes>"
      ]
     },
     "metadata": {},
     "output_type": "display_data"
    }
   ],
   "source": [
    "import cv2\n",
    "\n",
    "plt.imshow(plt.imread(image_chart));\n",
    "plt.axis('off')"
   ]
  },
  {
   "cell_type": "code",
   "execution_count": 96,
   "metadata": {},
   "outputs": [
    {
     "name": "stdout",
     "output_type": "stream",
     "text": [
      "43\n"
     ]
    }
   ],
   "source": [
    "validation_1 = '''    BDCABDC ABCDEEB ADEBEEB ABABABA ACBDDBC EABCDEA BBDCBDB ACBACBA BCDABCA ABCDBDD ADBCADE ABCABCA baabada AAAAAAA EABCDEA ADDBBAC ABCDEAC ABCDEBA ABABCDA ABDCABD ABABABA CACACAC ABBACAB ABCDDAB DBBDBAC ABCDBAD ABCDEAD CCCCCCC ABCABDA BDBBBDA EDABCDE ACDEBAC ACDBBDC ABCDBAE BBBBBBB ABCDEAB AEBCDAB CDDBBAD ADDBADD EABCDEA  EEEEEEE ABCDDEA ABCCBAA DCBAABC BCADEAB BDABEEB DEBAEBA '''\n",
    "validation_1 = validation_1.upper().split(' ')\n",
    "validation_1 = [word for word in validation_1 if len(word) != 0]\n",
    "\n",
    "validation_2 = '''\n",
    "['B', 'D', 'C', 'A', 'B', 'D', 'C']\n",
    "['A', 'B', 'C', 'D', 'E', 'E', 'B']\n",
    "['A', 'D', 'E', 'B', 'E', 'E', 'B']\n",
    "['A', 'B', 'A', 'B', 'A', 'B', 'A']\n",
    "['A', 'C', 'B', 'D', 'D', 'B', 'C']\n",
    "['E', 'A', 'B', 'C', 'D', 'E', 'A']\n",
    "['B', 'B', 'D', 'C', 'B', 'D', 'B']\n",
    "['A', 'C', 'B', 'A', 'C', 'B', 'A']\n",
    "['B', 'C', 'D', 'A', 'B', 'C', 'A']\n",
    "['A', 'B', 'C', 'D', 'B', 'D', 'D']\n",
    "['A', 'D', 'B', 'C', 'A', 'D', 'E']\n",
    "['A', 'B', 'C', 'A', 'B', 'C', 'A']\n",
    "['B', 'A', 'A', 'B', 'A', 'D', 'A']\n",
    "['A', 'A', 'A', 'A', 'A', 'A', 'A']\n",
    "['E', 'A', 'B', 'C', 'D', 'E', 'A', '7']\n",
    "['A', 'D', 'D', 'B', 'B', 'A', 'C']\n",
    "['A', 'B', 'C', 'D', 'E', 'A', 'C']\n",
    "['A', 'B', 'C', 'D', 'E', 'B', 'A']\n",
    "['A', 'B', 'A', 'B', 'C', 'D', 'A']\n",
    "['A', 'B', 'D', 'C', 'A', 'B', 'D']\n",
    "['A', 'B', 'A', 'B', 'A', 'B', 'A']\n",
    "['C', 'A', 'C', 'A', 'C', 'A', 'C']\n",
    "['A', 'B', 'B', 'A', 'C', 'A', 'B']\n",
    "['A', 'B', 'C', 'D', 'D', 'A', 'D']\n",
    "['D', 'B', 'B', 'D', 'B', 'A', 'C']\n",
    "['A', 'B', 'C', 'D', 'B', 'A', 'D']\n",
    "['A', 'B', 'C', 'D', 'E', 'A', 'D']\n",
    "['C', 'C', 'C', 'C', 'C', 'C', 'C']\n",
    "['A', 'B', 'C', 'A', 'B', 'D', 'A']\n",
    "['B', 'D', 'B', 'B', 'B', 'D', 'A']\n",
    "['E', 'D', 'A', 'B', 'C', 'D', 'E']\n",
    "['A', 'C', 'D', 'E', 'B', 'A', 'C']\n",
    "['A', 'C', 'D', 'B', 'B', 'D', 'C']\n",
    "['A', 'D', 'C', 'D', 'B', 'A', 'E']\n",
    "['B', 'B', 'B', 'B', 'B', 'B', 'B']\n",
    "['A', 'B', 'C', 'D', 'E', 'A', 'B']\n",
    "['A', 'E', 'B', 'C', 'D', 'A', 'B']\n",
    "['C', 'D', 'D', 'B', 'B', 'A', 'D']\n",
    "['A', 'D', 'D', 'B', 'A', 'D', 'D']\n",
    "['E', 'A', 'B', 'C', 'D', 'E', 'A']\n",
    "['E', 'E', 'E', 'E', 'E', 'E', 'E']\n",
    "['A', 'B', 'C', 'D', 'D', 'E', 'A']\n",
    "['A', 'B', 'C', 'C', 'B', 'A', 'A']\n",
    "['D', 'C', 'B', 'A', 'A', 'B', 'C']\n",
    "['B', 'C', 'A', 'D', 'E', 'A', 'B']\n",
    "['B', 'D', 'A', 'B', 'E', 'E', 'B']\n",
    "['D', 'E', 'D', 'A', 'E', 'B', 'A']\n",
    "\n",
    "'''\n",
    "\n",
    "validation_2 = validation_2.split('\\n')\n",
    "\n",
    "validation_2 = [word for word in validation_2 if len(word) != 0]\n",
    "validation_21 = []\n",
    "for i in validation_2:\n",
    "    i = i.replace('[', '')\n",
    "    i = i.replace(\"'\", '')\n",
    "    i = i.replace(' ', '')\n",
    "\n",
    "    i = i.split(']')\n",
    "\n",
    "    \n",
    "    for j in i:\n",
    "        if len(j) > 0:\n",
    "            validation_21.append(j)\n",
    "\n",
    "validation_2 = []\n",
    "for i in validation_21:\n",
    "    counter = ''\n",
    "    for j in i:\n",
    "        if j != ' ' and j!=',' and len(counter) <= 7:\n",
    "            counter+=j\n",
    "            # print(counter)\n",
    "    validation_2.append(counter)\n",
    "\n",
    "\n",
    "counter = 0\n",
    "if len(validation_1) == len(validation_2):\n",
    "    for i in range(len(validation_1)):\n",
    "        if validation_1[i] == validation_2[i]:\n",
    "            counter += 1\n",
    "\n",
    "print(counter)\n",
    "\n"
   ]
  },
  {
   "cell_type": "code",
   "execution_count": 27,
   "metadata": {},
   "outputs": [],
   "source": [
    "import pandas as pd\n",
    "import matplotlib.pyplot as plt \n",
    "import seaborn as sns \n",
    "\n",
    "\n",
    "def statics():\n",
    "    path_f = r'static\\uploads\\results.xlsx'\n",
    "    path_f = path_f.replace('\\\\', '/')\n",
    "    df = pd.read_excel(io=path_f)\n",
    "    score_student = df['exam_grade']\n",
    "    mean_score = score_student.mean()\n",
    "    median_score = score_student.median()\n",
    "    std_score = score_student.std()\n",
    "    var_score = score_student.var()\n",
    "\n",
    "    plt.figure(figsize=(10,6))\n",
    "    plt.hist(score_student, bins=10, color='skyblue', edgecolor='black')\n",
    "    plt.xlabel('Score')\n",
    "    image_hist= 'hist_plot.png'\n",
    "    plt.savefig(image_hist)\n",
    "    plt.close()\n",
    "\n",
    "    plt.figure(figsize=(10,6))\n",
    "    plt.boxplot(score_student)\n",
    "    plt.xlabel('Score')\n",
    "    image_box= 'box_plot.png'\n",
    "    plt.savefig(image_box)\n",
    "    plt.close()\n",
    "\n",
    "\n",
    "    return mean_score, median_score, std_score, var_score, image_hist, image_box\n",
    "\n",
    "mean_score, median_score, std_score, var_score, image_hist, image_box = statics()\n"
   ]
  },
  {
   "cell_type": "code",
   "execution_count": 29,
   "metadata": {},
   "outputs": [
    {
     "data": {
      "text/plain": [
       "(-0.5, 999.5, 599.5, -0.5)"
      ]
     },
     "execution_count": 29,
     "metadata": {},
     "output_type": "execute_result"
    },
    {
     "data": {
      "image/png": "[encoded data removed]",
      "text/plain": [
       "<Figure size 640x480 with 1 Axes>"
      ]
     },
     "metadata": {},
     "output_type": "display_data"
    }
   ],
   "source": [
    "plt.imshow(plt.imread(image_box))\n",
    "plt.axis('off')"
   ]
  },
  {
   "cell_type": "code",
   "execution_count": null,
   "metadata": {},
   "outputs": [],
   "source": [
    "MM"
   ]
  }
 ],
 "metadata": {
  "kernelspec": {
   "display_name": "gpu_2_copy",
   "language": "python",
   "name": "python3"
  },
  "language_info": {
   "codemirror_mode": {
    "name": "ipython",
    "version": 3
   },
   "file_extension": ".py",
   "mimetype": "text/x-python",
   "name": "python",
   "nbconvert_exporter": "python",
   "pygments_lexer": "ipython3",
   "version": "3.10.14"
  }
 },
 "nbformat": 4,
 "nbformat_minor": 2
}
